{
  "nbformat": 4,
  "nbformat_minor": 0,
  "metadata": {
    "colab": {
      "name": "PRML4章.ipynb",
      "provenance": [],
      "authorship_tag": "ABX9TyMlHvt4EKCQCOGhp67U75Jp",
      "include_colab_link": true
    },
    "kernelspec": {
      "name": "python3",
      "display_name": "Python 3"
    },
    "language_info": {
      "name": "python"
    }
  },
  "cells": [
    {
      "cell_type": "markdown",
      "metadata": {
        "id": "view-in-github",
        "colab_type": "text"
      },
      "source": [
        "<a href=\"https://colab.research.google.com/github/bb2796/sample-repo/blob/main/PRML4%E7%AB%A0.ipynb\" target=\"_parent\"><img src=\"https://colab.research.google.com/assets/colab-badge.svg\" alt=\"Open In Colab\"/></a>"
      ]
    },
    {
      "cell_type": "code",
      "metadata": {
        "id": "845oG_P0GXw-"
      },
      "source": [
        "import time\n",
        "import numpy as np\n",
        "import matplotlib as mpl\n",
        "from matplotlib import pyplot as plt\n",
        "\n",
        "%matplotlib inline\n",
        "plt.rcParams['axes.labelsize'] = 14\n",
        "plt.rcParams['xtick.labelsize'] = 12\n",
        "plt.rcParams['ytick.labelsize'] = 12"
      ],
      "execution_count": 1,
      "outputs": []
    },
    {
      "cell_type": "code",
      "metadata": {
        "id": "EHR174AmEs_9"
      },
      "source": [
        "#xをφをに変換する\n",
        "def calcPhimat(X):\n",
        "    '''\n",
        "    This function generates the design matrix Phi from X, the input data\n",
        "\n",
        "    Parameters\n",
        "    ----------\n",
        "    X : 2-D numpy array\n",
        "        (N,d) numpy array, with X[n, i] = i-th element of x_n\n",
        "\n",
        "    Returns\n",
        "    ----------\n",
        "    Phi : 2-D numpy array\n",
        "        The design matrix\n",
        "    '''\n",
        "    N = len(X)\n",
        "    if len(np.shape(X)) == 1:\n",
        "        d = 1\n",
        "    else:\n",
        "        d = np.shape(X)[1]\n",
        "    Phi = np.zeros((N,d+1))\n",
        "    Phi[:,0] = np.ones(N)\n",
        "    Phi[:,1:] = np.reshape(X, (N,d))\n",
        "    return Phi\n"
      ],
      "execution_count": 2,
      "outputs": []
    },
    {
      "cell_type": "code",
      "metadata": {
        "id": "kWSdDvqwEuEd"
      },
      "source": [
        "#マルチラベルの行列を作成\n",
        "def calcTmat(y, C):\n",
        "    '''\n",
        "    This function generates the matrix T from the training label y and the number of classes C\n",
        "\n",
        "    Parameters\n",
        "    ----------\n",
        "    y : 1-D numpy array\n",
        "        The elements of y should be integers in [0, C-1]\n",
        "    C : int\n",
        "        The number of classes\n",
        "\n",
        "    Returns\n",
        "    ----------\n",
        "    T : (len(y), C) numpy array\n",
        "        T[n, c] = 1 if y[n] == c else 0\n",
        "    '''\n",
        "    N = len(y)\n",
        "    T = np.zeros((N, C))\n",
        "    for c in range(C):\n",
        "        T[:, c] = (y == c)\n",
        "    return T"
      ],
      "execution_count": 3,
      "outputs": []
    },
    {
      "cell_type": "code",
      "metadata": {
        "id": "Z-cLJhUYEw8f"
      },
      "source": [
        "#ソフトマックス関数\n",
        "def calcPmat(Theta, Phi):\n",
        "    '''\n",
        "    This function generates the matrix P from the weight Theta and the design matrix Phi\n",
        "\n",
        "    Parameters\n",
        "    ----------\n",
        "    Theta : 2-D numpy array\n",
        "        Matrix representing the weight parameter\n",
        "    Phi : 2-D numpy array\n",
        "        The design matrix\n",
        "\n",
        "    Returns\n",
        "    ----------\n",
        "    P : 2-D numpy array\n",
        "    '''\n",
        "    P = np.exp( Phi @ (Theta.T) )\n",
        "    P = P/np.reshape( np.sum(P, axis= 1), (len(Phi),1)  ) \n",
        "    return P"
      ],
      "execution_count": 4,
      "outputs": []
    },
    {
      "cell_type": "code",
      "metadata": {
        "id": "KB2-xZnjEzZ1"
      },
      "source": [
        "#コスト関数\n",
        "def cost_function(thtvec, Phi, T, lam):\n",
        "    '''\n",
        "    This function calculate the loss function and its gradient\n",
        "\n",
        "    Parameters\n",
        "    ----------\n",
        "    thtvec : 1-D numpy array \n",
        "        (M*C,) array, which represents the weight parameter Theta, in flattened form\n",
        "    Phi : 2-D numpy array\n",
        "        (N, M) array, design matrix\n",
        "    T : 2-D numpy array\n",
        "        (N, C) array, where T[n, c] = 1 if y[n] == c else 0\n",
        "    lam : float\n",
        "        The regularization constant\n",
        "\n",
        "    Returns\n",
        "    ----------\n",
        "    J : float\n",
        "        The value of cost function        \n",
        "    '''\n",
        "    N, M = np.shape(Phi)\n",
        "    C = np.shape(T)[1]\n",
        "    Theta = np.reshape(thtvec, (C, M))\n",
        "    P = calcPmat(Theta, Phi)\n",
        "    J = -1.0/N*np.sum(T*np.log(P)) + lam/(2.0*N)*np.linalg.norm(thtvec)**2\n",
        "    return J"
      ],
      "execution_count": 4,
      "outputs": []
    },
    {
      "cell_type": "code",
      "metadata": {
        "id": "ufGIINLsE2sD"
      },
      "source": [
        "#コスト関数をθに関して微分\n",
        "def grad_cost_function(thtvec, Phi, T, lam):\n",
        "    '''\n",
        "    This function calculates the gradient of the cost function \n",
        "\n",
        "    Parameters\n",
        "    ----------\n",
        "    See the help for cost_function\n",
        "\n",
        "    Returns\n",
        "    ----------\n",
        "    grad_vec : 2-D array\n",
        "        The gradient of the cost function with respect to the weight parameter Theta, in flattened form\n",
        "    '''\n",
        "    N, M = np.shape(Phi)\n",
        "    C = np.shape(T)[1]\n",
        "    Theta = np.reshape(thtvec, (C, M))\n",
        "    P = calcPmat(Theta, Phi)\n",
        "    grad_mat = 1.0/N*((P - T).T) @ Phi + lam/N*Theta\n",
        "    grad_vec = np.reshape(grad_mat, len(thtvec))\n",
        "    return grad_vec"
      ],
      "execution_count": 5,
      "outputs": []
    },
    {
      "cell_type": "code",
      "metadata": {
        "id": "bxY9GUuGE5gm"
      },
      "source": [
        "\n",
        "def hess_cost_function(thtvec, Phi, T, lam):\n",
        "    '''\n",
        "    This function calculates the Hessian of the cost function \n",
        "\n",
        "    Parameters\n",
        "    ----------\n",
        "    See the help for cost_function\n",
        "\n",
        "    Returns\n",
        "    ----------\n",
        "    H : 2-D array\n",
        "        The hessian\n",
        "    '''\n",
        "    N, M = np.shape(Phi)\n",
        "    C = np.shape(T)[1]\n",
        "    Theta = np.reshape(thtvec, (C, M))\n",
        "    P = calcPmat(Theta, Phi)\n",
        "    tmparr_A = np.reshape(P, (N, C, 1)) * ( np.reshape(np.identity(C), (1, C, C)) - np.reshape(P, (N, 1, C)) )\n",
        "    tmparr_B = np.reshape(Phi, (N, M, 1)) * np.reshape(Phi, (N, 1, M)) \n",
        "    H_tmp = np.einsum('nik,njl->ijkl', tmparr_A, tmparr_B)/N\n",
        "    H = np.reshape(H_tmp, (C*M, C*M)) + lam/N*np.identity(C*M)\n",
        "    return H"
      ],
      "execution_count": 6,
      "outputs": []
    },
    {
      "cell_type": "code",
      "metadata": {
        "id": "UHRxKP5FE9u0"
      },
      "source": [
        "\n",
        "from scipy.sparse.linalg import LinearOperator\n",
        "\n",
        "def hessp_cost_function(thtvec, Phi, T, lam):\n",
        "    '''\n",
        "    This function returns the function representing the product of Hessian and a given vector\n",
        "\n",
        "    Parameters\n",
        "    ----------\n",
        "    See the help for cost_function\n",
        "\n",
        "    Returns\n",
        "    ----------\n",
        "    A : scipy.sparse,linalg.LinearOperator object\n",
        "        A linear operator representing the Hessian of the cost function\n",
        "    '''\n",
        "    N, M = np.shape(Phi)\n",
        "    C = np.shape(T)[1]\n",
        "    Theta = np.reshape(thtvec, (C, M))\n",
        "    P = calcPmat(Theta, Phi)\n",
        "    def hp(v):\n",
        "        V = np.reshape(v, (C, M))\n",
        "        tmp = Phi @ V.T\n",
        "        tmp = tmp - np.reshape(np.sum(P*tmp, axis=1), (N, -1))\n",
        "        product = ((P*tmp).T @ Phi)/N + lam/N*V\n",
        "        product = product.flatten()\n",
        "        return product\n",
        "    A = LinearOperator((C*M, C*M), matvec=hp)\n",
        "    return A"
      ],
      "execution_count": 7,
      "outputs": []
    },
    {
      "cell_type": "code",
      "metadata": {
        "id": "QtaBYeqYFCPC"
      },
      "source": [
        "\n",
        "def minimize_GD(func, x0, grad, alpha=0.01, maxiter=1e4, ftol=1e-5):\n",
        "    '''\n",
        "    This function minimizes the given function using gradient descent method\n",
        "\n",
        "    Parameters\n",
        "    ----------\n",
        "    func : callable\n",
        "        Function to be minimized (real-valued)\n",
        "    x0 : 1-D array\n",
        "        Initial value of the variable\n",
        "    grad : callable\n",
        "        The gradient of func (returns 1-D array)\n",
        "    alpha : float\n",
        "        Learning rate\n",
        "    maxiter : int\n",
        "        Maximum number of iteration\n",
        "    ftol : float\n",
        "        The threshold for stopping criterion. If the change of the value of function is smaller than this value, the iteration stops.\n",
        "\n",
        "    Returns\n",
        "    ----------\n",
        "    result : dictionary\n",
        "        result['x'] ... variable, result['nit'] ... the number of iteration, result['func']...the value of the function, result['success']... whether the minimization is successful or not\n",
        "    '''\n",
        "    x = x0\n",
        "    nit = 0\n",
        "    while nit < maxiter:\n",
        "        xold = x\n",
        "        x = x - alpha*grad(x)\n",
        "        nit += 1\n",
        "        if abs(func(x) - func(xold)) < ftol:\n",
        "            break\n",
        "    success = (nit < maxiter)\n",
        "    return {'x': x, 'nit':nit, 'func':func(x), 'success':success}"
      ],
      "execution_count": 8,
      "outputs": []
    },
    {
      "cell_type": "code",
      "metadata": {
        "id": "5TbsskcjFFM9"
      },
      "source": [
        "\n",
        "def minimize_newton(func, x0, grad, hess, maxiter=1e4, ftol=1e-5):\n",
        "    '''\n",
        "    This function minimizes the given function using Newton method\n",
        "\n",
        "    Parameters\n",
        "    ----------\n",
        "    func : callable\n",
        "        Function to be minimized (real-valued)\n",
        "    x0 : 1-D array\n",
        "        Initial value of the variable\n",
        "    grad : callable\n",
        "        The gradient of func (returns 1-D array)\n",
        "    hess: callable\n",
        "        The hessian of func (returns 2-D array)\n",
        "    maxiter : int\n",
        "        Maximum number of iteration\n",
        "    ftol : float\n",
        "        The threshold for stopping criterion. If the change of the value of function is smaller than this value, the iteration stops.\n",
        "\n",
        "    Returns\n",
        "    ----------\n",
        "    result : dictionary\n",
        "        result['x'] ... variable, result['nit'] ... the number of iteration, result['func']...the value of the function, result['success']... whether the minimization is successful or not\n",
        "    '''\n",
        "    x = x0\n",
        "    nit = 0\n",
        "    while nit < maxiter:\n",
        "        xold = x\n",
        "        x = x - np.linalg.solve(hess(x), grad(x))\n",
        "        nit += 1\n",
        "        if abs(func(x) - func(xold)) < ftol:\n",
        "            break\n",
        "    success = (nit < maxiter)\n",
        "    return {'x': x, 'nit':nit, 'func':func(x), 'success':success}"
      ],
      "execution_count": 9,
      "outputs": []
    },
    {
      "cell_type": "code",
      "metadata": {
        "id": "1qJvNNCsFH_o"
      },
      "source": [
        "\n",
        "from scipy.sparse.linalg import cg\n",
        "\n",
        "def minimize_ncg(func, x0, grad, hessp, maxiter=1e4, ftol=1e-5):\n",
        "    '''\n",
        "    This function minimizes the given function using Newton-CG method\n",
        "\n",
        "    Parameters\n",
        "    ----------\n",
        "    func : callable\n",
        "        Function to be minimized (real-valued)\n",
        "    x0 : 1-D array\n",
        "        Initial value of the variable\n",
        "    grad : callable\n",
        "        The gradient of func (returns 1-D array)\n",
        "    hessp: callable\n",
        "        A function which returns scipy.sparse.linalg.LinearOperator object representing Hessian\n",
        "    maxiter : int\n",
        "        Maximum number of iteration\n",
        "    ftol : float\n",
        "        The threshold for stopping criterion. If the change of the value of function is smaller than this value, the iteration stops.\n",
        "\n",
        "    Returns\n",
        "    ----------\n",
        "    result : dictionary\n",
        "        result['x'] ... variable, result['nit'] ... the number of iteration, result['func']...the value of the function, result['success']... whether the minimization is successful or not\n",
        "    '''\n",
        "    x = x0\n",
        "    nit = 0\n",
        "    while nit < maxiter:\n",
        "        xold = x\n",
        "        x = x - cg(A=hessp(x), b=grad(x))[0]\n",
        "        nit += 1\n",
        "        if abs(func(x) - func(xold)) < ftol:\n",
        "            break\n",
        "    success = (nit < maxiter)\n",
        "    return {'x': x, 'nit':nit, 'func':func(x), 'success':success} "
      ],
      "execution_count": 10,
      "outputs": []
    },
    {
      "cell_type": "code",
      "metadata": {
        "id": "DZff-BSiFLOD"
      },
      "source": [
        "\n",
        "def minimize(func, x0, method, grad, hess=None, hessp=None, alpha=None, maxiter=1e4, ftol=1e-5):\n",
        "    '''\n",
        "    This function minimizes the given function using the method speicified by user.\n",
        "\n",
        "    Parameters\n",
        "    ----------\n",
        "    func : callable\n",
        "        Function to be minimized (real-valued)\n",
        "    x0 : 1-D array\n",
        "        Initial value of the variable\n",
        "    method : string\n",
        "        One of 'gd', 'newton', 'newton-cg'.\n",
        "    grad : callable\n",
        "        The gradient of func (returns 1-D array)\n",
        "    hess : callable\n",
        "        The hessian of func (returns 2-D array). Required when method='newton'\n",
        "    hessp: callable\n",
        "        A function which returns scipy.sparse.linalg.LinearOperator object representing Hessian. Required when method='newton-cg'\n",
        "    alpha : float\n",
        "        Learning rate\n",
        "    maxiter : int\n",
        "        Maximum number of iteration\n",
        "    ftol : float\n",
        "        The threshold for stopping criterion. If the change of the value of function is smaller than this value, the iteration stops.\n",
        "\n",
        "    Returns\n",
        "    ----------\n",
        "    result : dictionary\n",
        "        result['x'] ... variable, result['nit'] ... the number of iteration, result['func']...the value of the function, result['success']... whether the minimization is successful or not\n",
        "    '''\n",
        "    if method == 'gd':\n",
        "        if alpha is None:\n",
        "            print(\"Gradient descent needs a learning rate parameter alpha.\")\n",
        "            return\n",
        "        else:\n",
        "            return minimize_GD(func, x0, grad, alpha, maxiter, ftol)\n",
        "    elif method == 'newton':\n",
        "        if hess is None:\n",
        "            print(\"Newton-Raphson method requires the hessian.\")\n",
        "            return\n",
        "        else:\n",
        "            return minimize_newton(func, x0, grad, hess, maxiter, ftol)\n",
        "    elif method == 'newton-cg':\n",
        "        if hessp is None:\n",
        "            print(\"Newton-CG method requires the hessian-product function.\")\n",
        "            return\n",
        "        else:\n",
        "            return minimize_ncg(func, x0, grad, hessp, maxiter, ftol)\n",
        "    else:\n",
        "        print(\"method should be one of gd, newton, newton-cg\")"
      ],
      "execution_count": 11,
      "outputs": []
    },
    {
      "cell_type": "code",
      "metadata": {
        "id": "Odwc6538FN7F"
      },
      "source": [
        "\n",
        "class LogisticClf:\n",
        "    def __init__(self, C, lam):\n",
        "        self.C = C  # the number of labels\n",
        "        self.lam = lam #regularization parameter\n",
        "        self.Theta = None\n",
        "\n",
        "    def fit(self, X, y, method='NR', alpha=None, maxiter=1e4, ftol=1e-5, show_message=False):\n",
        "        '''\n",
        "        Parameters\n",
        "        ----------\n",
        "        X : 1-D or 2-D numpy array\n",
        "            (N,) or (N, d) array, representing the training input data\n",
        "        y : 1-D numpy arra\n",
        "            (N,) array, representing training labels\n",
        "        '''\n",
        "        Phi = calcPhimat(X)\n",
        "        T = calcTmat(y, self.C)\n",
        "        N, M = np.shape(Phi)\n",
        "\n",
        "        tht0 = np.zeros(M*self.C)\n",
        "        time_start = time.time()\n",
        "        result = minimize(func=lambda x : cost_function(x, Phi, T, self.lam), \n",
        "                          x0=tht0, \n",
        "                          method=method,\n",
        "                          grad=lambda x : grad_cost_function(x, Phi, T, self.lam),\n",
        "                          hess=lambda x : hess_cost_function(x, Phi, T, self.lam),\n",
        "                          hessp = lambda x : hessp_cost_function(x, Phi, T, self.lam),\n",
        "                          alpha=alpha,\n",
        "                          maxiter=maxiter,\n",
        "                          ftol=ftol\n",
        "                         )\n",
        "        time_end = time.time()\n",
        "        if show_message:\n",
        "            print(result['success'])\n",
        "            print(f\"nit: {result['nit']}\")\n",
        "            print(f\"calcualtion time : {time_end - time_start}seconds\")\n",
        "        self.Theta = np.reshape(result['x'], (self.C, M))\n",
        "\n",
        "    def predict_proba(self, X):\n",
        "        '''\n",
        "        Parameters\n",
        "        ----------\n",
        "        X : 1-D or 2-D numpy array\n",
        "            (N,) or (N, d) array, representing the training input data\n",
        "        Returns\n",
        "        ----------\n",
        "        proba : 2-D numpy arra\n",
        "            (len(X), self.C) array, where proba[n, c] represents the probability that the n-th instance belongs to c-th class\n",
        "        '''\n",
        "        return calcPmat(self.Theta, calcPhimat(X))\n",
        "\n",
        "    def predict(self, X):\n",
        "        '''\n",
        "        Parameters\n",
        "        ----------\n",
        "        X : 1-D or 2-D numpy array\n",
        "            (N,) or (N, d) array, representing the training input data\n",
        "        Returns\n",
        "        ----------\n",
        "        classes : 1-D numpy arra\n",
        "            (len(X), ) array, where classes[n] represents the predicted class to which the n-th instance belongs\n",
        "        '''\n",
        "        tmp = self.predict_proba(X)\n",
        "        return np.argmax(tmp, axis=1 )"
      ],
      "execution_count": 12,
      "outputs": []
    },
    {
      "cell_type": "code",
      "metadata": {
        "id": "kfNrkGEwGAmC"
      },
      "source": [
        "from sklearn import datasets\n",
        "from sklearn.metrics import accuracy_score\n",
        "from sklearn.model_selection import train_test_split"
      ],
      "execution_count": 14,
      "outputs": []
    },
    {
      "cell_type": "code",
      "metadata": {
        "id": "rI4MvxkVFYVu"
      },
      "source": [
        "X, y = datasets.make_blobs(n_samples=200, n_features=2, centers=3)"
      ],
      "execution_count": 15,
      "outputs": []
    },
    {
      "cell_type": "code",
      "metadata": {
        "id": "C9ZSbxlcFbLP"
      },
      "source": [
        "def get_meshgrid(x, y, nx, ny, margin=0.1):\n",
        "    x_min, x_max = (1 + margin) * x.min() - margin * x.max(), (1 + margin) * x.max() - margin * x.min()\n",
        "    y_min, y_max = (1 + margin) * y.min() - margin * y.max(), (1 + margin) * y.max() - margin * y.min()\n",
        "    xx, yy = np.meshgrid(np.linspace(x_min, x_max, nx),\n",
        "                         np.linspace(y_min, y_max, ny))\n",
        "    return xx, yy\n",
        "\n",
        "def plot_result(ax, clf, xx, yy, X, t):\n",
        "    Z = (clf.predict(np.c_[xx.ravel(), yy.ravel()])).reshape(xx.shape)\n",
        "    ax.contourf(xx, yy, Z, alpha=0.7)\n",
        "    ax.scatter(X[:,0], X[:,1], c=t, edgecolor='k')"
      ],
      "execution_count": 16,
      "outputs": []
    },
    {
      "cell_type": "code",
      "metadata": {
        "colab": {
          "base_uri": "https://localhost:8080/",
          "height": 268
        },
        "id": "2Bd1iODvGM2Y",
        "outputId": "4350685b-5fde-4d96-eca0-5ea796a31ad3"
      },
      "source": [
        "X, t = datasets.make_blobs(n_samples=200, n_features=2, centers=3, random_state=42)\n",
        "plt.scatter(X[:,0], X[:,1], c=t, edgecolor='k')\n",
        "plt.show()\n",
        "\n",
        "xx, yy = get_meshgrid(X[:, 0], X[:, 1], nx=100, ny=100, margin=0.1)"
      ],
      "execution_count": 19,
      "outputs": [
        {
          "output_type": "display_data",
          "data": {
            "image/png": "[encoded data removed]",
            "text/plain": [
              "<Figure size 432x288 with 1 Axes>"
            ]
          },
          "metadata": {
            "needs_background": "light"
          }
        }
      ]
    },
    {
      "cell_type": "code",
      "metadata": {
        "id": "vfjDG7SGGPba"
      },
      "source": [
        "digits = datasets.load_digits()\n",
        "dat_train, dat_test, label_train, label_test = train_test_split(digits.data, digits.target, test_size=0.25)"
      ],
      "execution_count": 21,
      "outputs": []
    },
    {
      "cell_type": "code",
      "metadata": {
        "colab": {
          "base_uri": "https://localhost:8080/",
          "height": 319
        },
        "id": "-b2WJf1_G0yH",
        "outputId": "a85995ca-b46b-456b-9081-9942131ed301"
      },
      "source": [
        "clf = LogisticClf(C = 3, lam = 1.0)\n",
        "clf.fit(X, t, show_message=True, method='gd', alpha=0.01)\n",
        "ax = plt.subplot(111)\n",
        "plot_result(ax, clf, xx, yy, X, t)"
      ],
      "execution_count": 22,
      "outputs": [
        {
          "output_type": "stream",
          "name": "stdout",
          "text": [
            "True\n",
            "nit: 693\n",
            "calcualtion time : 0.16589045524597168seconds\n"
          ]
        },
        {
          "output_type": "display_data",
          "data": {
            "image/png": "[encoded data removed]",
            "text/plain": [
              "<Figure size 432x288 with 1 Axes>"
            ]
          },
          "metadata": {
            "needs_background": "light"
          }
        }
      ]
    },
    {
      "cell_type": "code",
      "metadata": {
        "colab": {
          "base_uri": "https://localhost:8080/",
          "height": 319
        },
        "id": "XVNxOfyVHCcL",
        "outputId": "458584de-feda-4e72-dd42-b55a4b8392d8"
      },
      "source": [
        "clf = LogisticClf(C = 3, lam = 1.0)\n",
        "clf.fit(X, t, show_message=True, method='newton')\n",
        "ax = plt.subplot(111)\n",
        "plot_result(ax, clf, xx, yy, X, t)"
      ],
      "execution_count": 23,
      "outputs": [
        {
          "output_type": "stream",
          "name": "stdout",
          "text": [
            "True\n",
            "nit: 8\n",
            "calcualtion time : 0.00934290885925293seconds\n"
          ]
        },
        {
          "output_type": "display_data",
          "data": {
            "image/png": "[encoded data removed]",
            "text/plain": [
              "<Figure size 432x288 with 1 Axes>"
            ]
          },
          "metadata": {
            "needs_background": "light"
          }
        }
      ]
    },
    {
      "cell_type": "code",
      "metadata": {
        "colab": {
          "base_uri": "https://localhost:8080/",
          "height": 319
        },
        "id": "Rj_IHvAzHKje",
        "outputId": "04729e0e-4658-4f4b-e308-eaffaefab564"
      },
      "source": [
        "clf = LogisticClf(C = 3, lam = 1.0)\n",
        "clf.fit(X, t, show_message=True, method='newton-cg')\n",
        "ax = plt.subplot(111)\n",
        "plot_result(ax, clf, xx, yy, X, t)"
      ],
      "execution_count": 24,
      "outputs": [
        {
          "output_type": "stream",
          "name": "stdout",
          "text": [
            "True\n",
            "nit: 8\n",
            "calcualtion time : 0.014476776123046875seconds\n"
          ]
        },
        {
          "output_type": "display_data",
          "data": {
            "image/png": "[encoded data removed]",
            "text/plain": [
              "<Figure size 432x288 with 1 Axes>"
            ]
          },
          "metadata": {
            "needs_background": "light"
          }
        }
      ]
    },
    {
      "cell_type": "code",
      "metadata": {
        "colab": {
          "base_uri": "https://localhost:8080/"
        },
        "id": "0D6Z904dHNd2",
        "outputId": "3ff10f14-e225-44c2-b92e-b92fafe32061"
      },
      "source": [
        "digits = datasets.load_digits()\n",
        "dat_train, dat_test, label_train, label_test = train_test_split(digits.data, digits.target, test_size=0.25)\n",
        "\n",
        "print(f\"Training data : {len(dat_train)}\")\n",
        "print(f\"Test data : {len(dat_test)}\")\n",
        "print(f\"Input dimension : {dat_train.shape[1]}\")"
      ],
      "execution_count": 25,
      "outputs": [
        {
          "output_type": "stream",
          "name": "stdout",
          "text": [
            "Training data : 1347\n",
            "Test data : 450\n",
            "Input dimension : 64\n"
          ]
        }
      ]
    },
    {
      "cell_type": "code",
      "metadata": {
        "id": "aJg1KzG4HV49"
      },
      "source": [
        "def show_result_digit(clf):\n",
        "    label_test_pred = clf.predict(dat_test)\n",
        "    print(f\"train accuracy score: {accuracy_score(label_train, clf.predict(dat_train))}\")\n",
        "    print(f\"test accuracy score: {accuracy_score(label_test, label_test_pred)}\")"
      ],
      "execution_count": 26,
      "outputs": []
    },
    {
      "cell_type": "code",
      "metadata": {
        "colab": {
          "base_uri": "https://localhost:8080/"
        },
        "id": "XP8f8HK7HZDl",
        "outputId": "5544d4d0-117a-45f8-a465-3a174e085048"
      },
      "source": [
        "clf = LogisticClf(C=10, lam=1.0)\n",
        "clf.fit(dat_train, label_train, method='gd', alpha=0.01, show_message=True)\n",
        "show_result_digit(clf)"
      ],
      "execution_count": 27,
      "outputs": [
        {
          "output_type": "stream",
          "name": "stdout",
          "text": [
            "True\n",
            "nit: 1977\n",
            "calcualtion time : 7.489727258682251seconds\n",
            "train accuracy score: 0.9992576095025983\n",
            "test accuracy score: 0.9688888888888889\n"
          ]
        }
      ]
    },
    {
      "cell_type": "code",
      "metadata": {
        "colab": {
          "base_uri": "https://localhost:8080/"
        },
        "id": "rf1SsfwAHcM_",
        "outputId": "2d91a24e-daf7-44d6-d9c0-fe103ea870ec"
      },
      "source": [
        "clf = LogisticClf(C=10, lam=1.0)\n",
        "clf.fit(dat_train, label_train, method='newton', show_message=True)\n",
        "show_result_digit(clf)"
      ],
      "execution_count": 28,
      "outputs": [
        {
          "output_type": "stream",
          "name": "stdout",
          "text": [
            "True\n",
            "nit: 10\n",
            "calcualtion time : 17.678614854812622seconds\n",
            "train accuracy score: 1.0\n",
            "test accuracy score: 0.9533333333333334\n"
          ]
        }
      ]
    },
    {
      "cell_type": "code",
      "metadata": {
        "colab": {
          "base_uri": "https://localhost:8080/"
        },
        "id": "H8vYeZ-YHgQQ",
        "outputId": "3b9e7826-a9ca-4325-9415-e44b48f3ed49"
      },
      "source": [
        "clf = LogisticClf(C=10, lam=1.0)\n",
        "clf.fit(dat_train, label_train, method='newton-cg', show_message=True)\n",
        "show_result_digit(clf)"
      ],
      "execution_count": 29,
      "outputs": [
        {
          "output_type": "stream",
          "name": "stdout",
          "text": [
            "True\n",
            "nit: 10\n",
            "calcualtion time : 1.6850109100341797seconds\n",
            "train accuracy score: 1.0\n",
            "test accuracy score: 0.9533333333333334\n"
          ]
        }
      ]
    },
    {
      "cell_type": "code",
      "metadata": {
        "colab": {
          "base_uri": "https://localhost:8080/"
        },
        "id": "Kyp0f8h3HqAb",
        "outputId": "efe6a6b4-40f5-4731-f5d2-a4251fa035d9"
      },
      "source": [
        "lams = [0.03, 1.0, 30.0]\n",
        "\n",
        "for lam in lams:\n",
        "    print(f\"lambda = {lam}\")\n",
        "    clf = LogisticClf(C=10, lam=lam)\n",
        "    clf.fit(dat_train, label_train, method='newton-cg', show_message=True)\n",
        "    show_result_digit(clf)"
      ],
      "execution_count": 30,
      "outputs": [
        {
          "output_type": "stream",
          "name": "stdout",
          "text": [
            "lambda = 0.03\n",
            "True\n",
            "nit: 12\n",
            "calcualtion time : 5.794589996337891seconds\n",
            "train accuracy score: 1.0\n",
            "test accuracy score: 0.9511111111111111\n",
            "lambda = 1.0\n",
            "True\n",
            "nit: 10\n",
            "calcualtion time : 1.598273515701294seconds\n",
            "train accuracy score: 1.0\n",
            "test accuracy score: 0.9533333333333334\n",
            "lambda = 30.0\n",
            "True\n",
            "nit: 7\n",
            "calcualtion time : 0.4609184265136719seconds\n",
            "train accuracy score: 0.9992576095025983\n",
            "test accuracy score: 0.9644444444444444\n"
          ]
        }
      ]
    },
    {
      "cell_type": "code",
      "metadata": {
        "id": "4fiL5cWjHzpd"
      },
      "source": [
        ""
      ],
      "execution_count": null,
      "outputs": []
    }
  ]
}